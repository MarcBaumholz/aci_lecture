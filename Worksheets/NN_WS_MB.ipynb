{
 "cells": [
  {
   "cell_type": "markdown",
   "metadata": {},
   "source": [
    "# Neural Networks\n",
    "\n",
    "Nueral networks have been increasing in popularity due to their advantages over traditional machine learning models because of their flexibility and customisability.\n",
    "\n",
    "A neural network basic element is called a perceptron, this receives inputs, multiplies them by weights and gives the result to an activation function (logistic, relu, etc..), and in turn this will produce an output.\n",
    "\n",
    "A neural network is built by creating layers (levels) made up of these perceptrons. A neural network has three layers: input, hidden, and output. \n",
    "\n",
    "- Input layer: this is the layer that receives the data\n",
    "- Output layer: this is the layer that returns a result\n",
    "- Hidden layer/s: this can be more than one, and this is where computation takes place\n",
    "\n",
    "## Predicting Diabetes\n",
    "\n",
    "We are going to use the same dataset used for classification, to assign labels whether a person is diabetic or not.\n",
    "\n",
    "### Loading the data"
   ]
  },
  {
   "cell_type": "code",
   "execution_count": 1,
   "metadata": {},
   "outputs": [
    {
     "data": {
      "text/plain": "   PatientID  Pregnancies  PlasmaGlucose  DiastolicBloodPressure  \\\n0    1354778            0            171                      80   \n1    1147438            8             92                      93   \n2    1640031            7            115                      47   \n3    1883350            9            103                      78   \n4    1424119            1             85                      59   \n\n   TricepsThickness  SerumInsulin        BMI  DiabetesPedigree  Age  Diabetic  \n0                34            23  43.509726          1.213191   21         0  \n1                47            36  21.240576          0.158365   23         0  \n2                52            35  41.511523          0.079019   23         0  \n3                25           304  29.582192          1.282870   43         1  \n4                27            35  42.604536          0.549542   22         0  ",
      "text/html": "<div>\n<style scoped>\n    .dataframe tbody tr th:only-of-type {\n        vertical-align: middle;\n    }\n\n    .dataframe tbody tr th {\n        vertical-align: top;\n    }\n\n    .dataframe thead th {\n        text-align: right;\n    }\n</style>\n<table border=\"1\" class=\"dataframe\">\n  <thead>\n    <tr style=\"text-align: right;\">\n      <th></th>\n      <th>PatientID</th>\n      <th>Pregnancies</th>\n      <th>PlasmaGlucose</th>\n      <th>DiastolicBloodPressure</th>\n      <th>TricepsThickness</th>\n      <th>SerumInsulin</th>\n      <th>BMI</th>\n      <th>DiabetesPedigree</th>\n      <th>Age</th>\n      <th>Diabetic</th>\n    </tr>\n  </thead>\n  <tbody>\n    <tr>\n      <th>0</th>\n      <td>1354778</td>\n      <td>0</td>\n      <td>171</td>\n      <td>80</td>\n      <td>34</td>\n      <td>23</td>\n      <td>43.509726</td>\n      <td>1.213191</td>\n      <td>21</td>\n      <td>0</td>\n    </tr>\n    <tr>\n      <th>1</th>\n      <td>1147438</td>\n      <td>8</td>\n      <td>92</td>\n      <td>93</td>\n      <td>47</td>\n      <td>36</td>\n      <td>21.240576</td>\n      <td>0.158365</td>\n      <td>23</td>\n      <td>0</td>\n    </tr>\n    <tr>\n      <th>2</th>\n      <td>1640031</td>\n      <td>7</td>\n      <td>115</td>\n      <td>47</td>\n      <td>52</td>\n      <td>35</td>\n      <td>41.511523</td>\n      <td>0.079019</td>\n      <td>23</td>\n      <td>0</td>\n    </tr>\n    <tr>\n      <th>3</th>\n      <td>1883350</td>\n      <td>9</td>\n      <td>103</td>\n      <td>78</td>\n      <td>25</td>\n      <td>304</td>\n      <td>29.582192</td>\n      <td>1.282870</td>\n      <td>43</td>\n      <td>1</td>\n    </tr>\n    <tr>\n      <th>4</th>\n      <td>1424119</td>\n      <td>1</td>\n      <td>85</td>\n      <td>59</td>\n      <td>27</td>\n      <td>35</td>\n      <td>42.604536</td>\n      <td>0.549542</td>\n      <td>22</td>\n      <td>0</td>\n    </tr>\n  </tbody>\n</table>\n</div>"
     },
     "execution_count": 1,
     "metadata": {},
     "output_type": "execute_result"
    }
   ],
   "source": [
    "import pandas as pd\n",
    "\n",
    "data = pd.read_csv('diabetes.csv')\n",
    "data.head()"
   ]
  },
  {
   "cell_type": "markdown",
   "metadata": {},
   "source": [
    "### Check data\n",
    "\n",
    "Next step is to check the state of the data. We can obtain basic statistics."
   ]
  },
  {
   "cell_type": "code",
   "execution_count": 2,
   "metadata": {},
   "outputs": [
    {
     "name": "stdout",
     "output_type": "stream",
     "text": [
      "(15000, 10)\n",
      "                          count          mean            std           min  \\\n",
      "PatientID               15000.0  1.502922e+06  289253.443471  1.000038e+06   \n",
      "Pregnancies             15000.0  3.224533e+00       3.391020  0.000000e+00   \n",
      "PlasmaGlucose           15000.0  1.078569e+02      31.981975  4.400000e+01   \n",
      "DiastolicBloodPressure  15000.0  7.122067e+01      16.758716  2.400000e+01   \n",
      "TricepsThickness        15000.0  2.881400e+01      14.555716  7.000000e+00   \n",
      "SerumInsulin            15000.0  1.378521e+02     133.068252  1.400000e+01   \n",
      "BMI                     15000.0  3.150965e+01       9.759000  1.820051e+01   \n",
      "DiabetesPedigree        15000.0  3.989677e-01       0.377944  7.804379e-02   \n",
      "Age                     15000.0  3.013773e+01      12.089703  2.100000e+01   \n",
      "Diabetic                15000.0  3.333333e-01       0.471420  0.000000e+00   \n",
      "\n",
      "                                 25%           50%           75%           max  \n",
      "PatientID               1.252866e+06  1.505508e+06  1.755205e+06  1.999997e+06  \n",
      "Pregnancies             0.000000e+00  2.000000e+00  6.000000e+00  1.400000e+01  \n",
      "PlasmaGlucose           8.400000e+01  1.040000e+02  1.290000e+02  1.920000e+02  \n",
      "DiastolicBloodPressure  5.800000e+01  7.200000e+01  8.500000e+01  1.170000e+02  \n",
      "TricepsThickness        1.500000e+01  3.100000e+01  4.100000e+01  9.300000e+01  \n",
      "SerumInsulin            3.900000e+01  8.300000e+01  1.950000e+02  7.990000e+02  \n",
      "BMI                     2.125989e+01  3.176794e+01  3.925969e+01  5.603463e+01  \n",
      "DiabetesPedigree        1.377433e-01  2.002971e-01  6.162851e-01  2.301594e+00  \n",
      "Age                     2.200000e+01  2.400000e+01  3.500000e+01  7.700000e+01  \n",
      "Diabetic                0.000000e+00  0.000000e+00  1.000000e+00  1.000000e+00  \n"
     ]
    }
   ],
   "source": [
    "print (data.shape)\n",
    "print (data.describe().transpose())"
   ]
  },
  {
   "cell_type": "markdown",
   "metadata": {},
   "source": [
    "We can also check if there are any nulls."
   ]
  },
  {
   "cell_type": "code",
   "execution_count": 3,
   "metadata": {},
   "outputs": [
    {
     "name": "stdout",
     "output_type": "stream",
     "text": [
      "PatientID                 0\n",
      "Pregnancies               0\n",
      "PlasmaGlucose             0\n",
      "DiastolicBloodPressure    0\n",
      "TricepsThickness          0\n",
      "SerumInsulin              0\n",
      "BMI                       0\n",
      "DiabetesPedigree          0\n",
      "Age                       0\n",
      "Diabetic                  0\n",
      "dtype: int64\n"
     ]
    }
   ],
   "source": [
    "print (data.isnull().sum())"
   ]
  },
  {
   "cell_type": "markdown",
   "metadata": {},
   "source": [
    "### Selecting Labels and Features\n",
    "\n",
    "Now we can define the features, and the target label."
   ]
  },
  {
   "cell_type": "code",
   "execution_count": 4,
   "metadata": {},
   "outputs": [],
   "source": [
    "target = ['Diabetic']\n",
    "exclude = ['PatientID']\n",
    "\n",
    "features = list(set(list(data.columns)) - set(target) - set(exclude))"
   ]
  },
  {
   "cell_type": "markdown",
   "metadata": {},
   "source": [
    "### Data Scaling\n",
    "\n",
    "In neural networks it is ideal to convert all the values to the same range. This can be done using MinMaxScaler found in sklearn. It changes all the values from 0 to 1."
   ]
  },
  {
   "cell_type": "code",
   "execution_count": 5,
   "metadata": {},
   "outputs": [
    {
     "name": "stdout",
     "output_type": "stream",
     "text": [
      "[[8.58108108e-01 3.13953488e-01 0.00000000e+00 ... 6.68952179e-01\n",
      "  5.10511281e-01 1.14649682e-02]\n",
      " [3.24324324e-01 4.65116279e-01 5.71428571e-01 ... 8.03524571e-02\n",
      "  3.61229438e-02 2.80254777e-02]\n",
      " [4.79729730e-01 5.23255814e-01 5.00000000e-01 ... 6.16137348e-01\n",
      "  4.38385837e-04 2.67515924e-02]\n",
      " ...\n",
      " [3.31081081e-01 4.18604651e-01 0.00000000e+00 ... 1.29558076e-02\n",
      "  1.56958511e-01 5.47770701e-02]\n",
      " [5.94594595e-01 1.27906977e-01 0.00000000e+00 ... 4.20555241e-02\n",
      "  1.00835769e-01 1.87261146e-01]\n",
      " [4.72972973e-01 4.65116279e-01 2.14285714e-01 ... 4.76155567e-01\n",
      "  3.11749422e-02 6.34394904e-01]]\n"
     ]
    }
   ],
   "source": [
    "from sklearn.preprocessing import MinMaxScaler\n",
    "\n",
    "scaler = MinMaxScaler()\n",
    "scaled = scaler.fit_transform(data[features])\n",
    "print(scaled)"
   ]
  },
  {
   "cell_type": "markdown",
   "metadata": {},
   "source": [
    "### Data Splitting\n",
    "\n",
    "Now, we can split the data making sure to use the scaled data for the features."
   ]
  },
  {
   "cell_type": "code",
   "execution_count": 6,
   "metadata": {},
   "outputs": [
    {
     "name": "stdout",
     "output_type": "stream",
     "text": [
      "[0 0 0 ... 0 0 1]\n",
      "Training Instances :  (10500, 8)\n",
      "Test Instances :  (4500, 8)\n"
     ]
    }
   ],
   "source": [
    "from sklearn.model_selection import train_test_split\n",
    "\n",
    "X = scaled\n",
    "y = data[target[0]].values\n",
    "print(y)\n",
    "\n",
    "X_train, X_test, y_train, y_test = train_test_split(X, y, test_size=0.3, random_state=0)\n",
    "print ('Training Instances : ' , X_train.shape)\n",
    "print ('Test Instances : ' ,X_test.shape)"
   ]
  },
  {
   "cell_type": "markdown",
   "metadata": {},
   "source": [
    "### Training the Model\n",
    "\n",
    "In this case we will be using a Neural Network classifier named MLPClassifier. It accepts a number of parameters, in this case:\n",
    "- hidden_layer_sizes is set to (8,8,8) this means 3 hidden layers with 8 perceptrons in each node\n",
    "- activation is set to 'relu', this determines the activation function \n",
    "- solver is set to 'adam', this is the solver for the weight optimization\n",
    "- max_iter is set to 1000, this is the number of times the network iterates until it converges\n",
    "\n",
    "For more information: **[MLPClassifier](https://scikit-learn.org/stable/modules/generated/sklearn.neural_network.MLPClassifier.html)**\n",
    "\n",
    "After the model is trained, we can predict using the test data set."
   ]
  },
  {
   "cell_type": "code",
   "execution_count": 7,
   "metadata": {},
   "outputs": [],
   "source": [
    "'''\n",
    "\n",
    "8 12 8 4 possible\n",
    "8 6 4\n",
    "\n",
    "Which best combination of hidden layers\n",
    "\n",
    "'''\n",
    "\n",
    "from sklearn.neural_network import MLPClassifier\n",
    "\n",
    "mlp = MLPClassifier(hidden_layer_sizes=(8, 8, 8), activation='relu', solver='adam', max_iter=1000)\n",
    "mlp.fit(X_train, y_train)\n",
    "\n",
    "predictions = mlp.predict(X_test)"
   ]
  },
  {
   "cell_type": "markdown",
   "metadata": {},
   "source": [
    "### Evaluting the Model\n",
    "\n",
    "After we predict the values we can use any metric we want to calculate the accuracy of the model. In this case a classification report, and a confusion matrix is created."
   ]
  },
  {
   "cell_type": "code",
   "execution_count": 8,
   "metadata": {},
   "outputs": [
    {
     "name": "stdout",
     "output_type": "stream",
     "text": [
      "[[2765  221]\n",
      " [ 225 1289]]\n",
      "              precision    recall  f1-score   support\n",
      "\n",
      "           0       0.92      0.93      0.93      2986\n",
      "           1       0.85      0.85      0.85      1514\n",
      "\n",
      "    accuracy                           0.90      4500\n",
      "   macro avg       0.89      0.89      0.89      4500\n",
      "weighted avg       0.90      0.90      0.90      4500\n",
      "\n"
     ]
    }
   ],
   "source": [
    "from sklearn.metrics import classification_report, confusion_matrix\n",
    "\n",
    "print (confusion_matrix(y_test, predictions))\n",
    "print (classification_report(y_test, predictions))"
   ]
  }
 ],
 "metadata": {
  "interpreter": {
   "hash": "63fd5069d213b44bf678585dea6b12cceca9941eaf7f819626cde1f2670de90d"
  },
  "kernelspec": {
   "display_name": "Python 3.9.1 64-bit",
   "name": "python3"
  },
  "language_info": {
   "codemirror_mode": {
    "name": "ipython",
    "version": 3
   },
   "file_extension": ".py",
   "mimetype": "text/x-python",
   "name": "python",
   "nbconvert_exporter": "python",
   "pygments_lexer": "ipython3",
   "version": "3.9.1"
  },
  "orig_nbformat": 4
 },
 "nbformat": 4,
 "nbformat_minor": 2
}