{
 "cells": [
  {
   "cell_type": "markdown",
   "source": [
    "# Linear Programming - Worksheet 2\r\n",
    "\r\n",
    "## Problem 1\r\n",
    "\r\n",
    "You need to buy some filing cabinets. You know that Cabinet X costs $10 per unit, requires six square feet of floor space, and holds eight cubic feet of files. Cabinet Y costs $20 per unit, requires eight square feet of floor space, and holds twelve cubic feet of files. You have been given $140 for this purchase, though you don't have to spend that much. The office has room for no more than 72 square feet of cabinets. How many of which model should you buy, in order to maximise storage volume?"
   ],
   "metadata": {}
  },
  {
   "cell_type": "code",
   "execution_count": 1,
   "source": [
    "from pulp import *\r\n",
    "\r\n",
    "lp = LpProblem(\"Cabinets\", LpMaximize)\r\n",
    "\r\n",
    "#Define variables\r\n",
    "a = LpVariable(name=\"Cabinet X\", lowBound=0, cat=\"Integer\")\r\n",
    "b = LpVariable(name=\"Cabinet Y\", lowBound=0, cat=\"Integer\")\r\n",
    "\r\n",
    "#Add the objective function\r\n",
    "lp.objective = 8*a + 12*b\r\n",
    "\r\n",
    "# Add the constraints\r\n",
    "lp.addConstraint(10*a + 20*b <= 140, 'budget_constraint')\r\n",
    "lp.addConstraint(6*a + 8*b <= 72, 'space_constraint')\r\n",
    "\r\n",
    "# Solve the LP\r\n",
    "status = lp.solve(PULP_CBC_CMD(msg=0))\r\n",
    "print(\"Status:\", status)\r\n",
    "#1:optimal, 2:not solved, 3:infeasible, 4:unbounded, 5:undef\r\n",
    "\r\n",
    "#Print solution\r\n",
    "for var in lp.variables():\r\n",
    "    print(var, \"=\", value(var))\r\n",
    "print(\"OPT =\", value(lp.objective))\r\n",
    "\r\n",
    "\r\n"
   ],
   "outputs": [
    {
     "output_type": "stream",
     "name": "stdout",
     "text": [
      "Status: 1\n",
      "Cabinet_X = 8.0\n",
      "Cabinet_Y = 3.0\n",
      "OPT = 100.0\n"
     ]
    }
   ],
   "metadata": {}
  },
  {
   "cell_type": "markdown",
   "source": [
    "## Problem 2\r\n",
    "\r\n",
    "In order to ensure optimal health (and thus accurate test results), a lab technician needs to feed the rabbits a daily diet containing a minimum of 24 grams (g) of fat, 36 g of carbohydrates, and 4g of protein. But the rabbits should be fed no more than five ounces of food a day. Rather than order rabbit food that is custom-blended, it is cheaper to order Food X and Food Y, and blend them for an optimal mix. Food X contains 8 g of fat, 12 g of carbohydrates, and 2 g of protein per ounce, and costs $0.20 per ounce. Food Y contains 12 g of fat, 12 g of carbohydrates, and 1 g of protein per ounce, at a cost of $0.30 per ounce. What is the optimal blend?"
   ],
   "metadata": {}
  },
  {
   "cell_type": "code",
   "execution_count": 2,
   "source": [
    "from pulp import *\r\n",
    "\r\n",
    "lp = LpProblem(\"Food\", LpMinimize)\r\n",
    "\r\n",
    "#Define variables\r\n",
    "a = LpVariable(name=\"Food X\", lowBound=0, cat=\"Integer\")\r\n",
    "b = LpVariable(name=\"Food Y\", lowBound=0, cat=\"Integer\")\r\n",
    "\r\n",
    "#Add the objective function\r\n",
    "lp.objective = 0.2*a + 0.3*b\r\n",
    "\r\n",
    "# Add the constraints\r\n",
    "lp.addConstraint(a + b <=5, 'food_constraint')\r\n",
    "lp.addConstraint(8*a + 12*b >= 24, 'fat_constraint')\r\n",
    "lp.addConstraint(12*a + 12*b >= 36, 'carb_constraint')\r\n",
    "lp.addConstraint(2*a + b >= 4, 'protein_constraint')\r\n",
    "\r\n",
    "# Solve the LP\r\n",
    "status = lp.solve(PULP_CBC_CMD(msg=0))\r\n",
    "print(\"Status:\", status)\r\n",
    "#1:optimal, 2:not solved, 3:infeasible, 4:unbounded, 5:undef\r\n",
    "\r\n",
    "#Print solution\r\n",
    "for var in lp.variables():\r\n",
    "    print(var, \"=\", value(var))\r\n",
    "print(\"OPT =\", value(lp.objective))\r\n",
    "\r\n",
    "\r\n"
   ],
   "outputs": [
    {
     "output_type": "stream",
     "name": "stdout",
     "text": [
      "Status: 1\n",
      "Food_X = 3.0\n",
      "Food_Y = 0.0\n",
      "OPT = 0.6000000000000001\n"
     ]
    }
   ],
   "metadata": {}
  },
  {
   "cell_type": "markdown",
   "source": [
    "## Problem 3\r\n",
    "\r\n",
    "You have $12,000 to invest, and three different funds from which to choose. The municipal bond fund has a 7% return, the local bank's CDs have an 8% return, and the high-risk account has an expected (hoped-for) 12% return. To minimise risk, you decide not to invest any more than $2,000 in the high-risk account. For tax reasons, you need to invest at least three times as much in the municipal bonds as in the bank CDs. Assuming the year-end yields are as expected, what are the optimal investment amounts?\r\n"
   ],
   "metadata": {}
  },
  {
   "cell_type": "code",
   "execution_count": 3,
   "source": [
    "from pulp import *\r\n",
    "\r\n",
    "lp = LpProblem(\"Funds\", LpMaximize)\r\n",
    "\r\n",
    "#Define variables\r\n",
    "a = LpVariable(name=\"Municipal\", lowBound=0)\r\n",
    "b = LpVariable(name=\"Bank\", lowBound=0)\r\n",
    "c = LpVariable(name=\"High Risk\", lowBound=0)\r\n",
    "\r\n",
    "#Add the objective function\r\n",
    "lp.objective = 0.07*a + 0.08*b + 0.12*c\r\n",
    "\r\n",
    "# Add the constraints\r\n",
    "lp.addConstraint( a+b+c<=12000, 'total_constraint')\r\n",
    "lp.addConstraint( c<= 2000, 'highrisk_constraint')\r\n",
    "lp.addConstraint( a-3*b >=0,'f1_f2_constraint')\r\n",
    "\r\n",
    "# Solve the LP\r\n",
    "status = lp.solve(PULP_CBC_CMD(msg=0))\r\n",
    "print(\"Status:\", status)\r\n",
    "#1:optimal, 2:not solved, 3:infeasible, 4:unbounded, 5:undef\r\n",
    "\r\n",
    "#Print solution\r\n",
    "for var in lp.variables():\r\n",
    "    print(var, \"=\", value(var))\r\n",
    "print(\"OPT =\", value(lp.objective))\r\n",
    "\r\n",
    "\r\n"
   ],
   "outputs": [
    {
     "output_type": "stream",
     "name": "stdout",
     "text": [
      "Status: 1\n",
      "Bank = 2500.0\n",
      "High_Risk = 2000.0\n",
      "Municipal = 7500.0\n",
      "OPT = 965.0\n"
     ]
    }
   ],
   "metadata": {}
  },
  {
   "cell_type": "markdown",
   "source": [
    "## Problem 4\r\n",
    "\r\n",
    "A building supply has two locations in town. The office receives orders from two customers, each requiring 3/4-inch plywood. Customer A needs fifty sheets and Customer B needs seventy sheets. The warehouse on the east side of town has eighty sheets in stock; the west-side warehouse has forty-five sheets in stock. Delivery costs per sheet are as follows: $0.50 from the eastern warehouse to Customer A, $0.60 from the eastern warehouse to Customer B, $0.40 from the western warehouse to Customer A, and $0.55 from the western warehouse to Customer B. Find the shipping arrangement which minimises costs."
   ],
   "metadata": {}
  },
  {
   "cell_type": "code",
   "execution_count": 5,
   "source": [
    "from pulp import *\r\n",
    "\r\n",
    "lp = LpProblem(\"Warehouse\", LpMinimize)\r\n",
    "\r\n",
    "#Define variables\r\n",
    "a = LpVariable(name=\"East to A\", lowBound=0, cat=\"Integer\")\r\n",
    "b = LpVariable(name=\"East to B\", lowBound=0, cat=\"Integer\")\r\n",
    "c = LpVariable(name=\"West to A\", lowBound=0, cat=\"Integer\")\r\n",
    "d = LpVariable(name=\"West to B\", lowBound=0, cat=\"Integer\")\r\n",
    "\r\n",
    "#Add the objective function\r\n",
    "lp.objective = 0.5*a + 0.6*b + 0.4*c + 0.55*d\r\n",
    "\r\n",
    "# Add the constraints\r\n",
    "lp.addConstraint( a + c == 50, 'customerA_constraint')\r\n",
    "lp.addConstraint( b + d == 70, 'customerB_constraint')\r\n",
    "lp.addConstraint( a + b <= 80, 'east_constraint')\r\n",
    "lp.addConstraint( c + d <= 45, 'west_constraint')\r\n",
    "\r\n",
    "\r\n",
    "\r\n",
    "# Solve the LP\r\n",
    "status = lp.solve(PULP_CBC_CMD(msg=0))\r\n",
    "print(\"Status:\", status)\r\n",
    "#1:optimal, 2:not solved, 3:infeasible, 4:unbounded, 5:undef\r\n",
    "\r\n",
    "#Print solution\r\n",
    "for var in lp.variables():\r\n",
    "    print(var, \"=\", value(var))\r\n",
    "print(\"OPT =\", value(lp.objective))\r\n",
    "\r\n",
    "\r\n"
   ],
   "outputs": [
    {
     "output_type": "stream",
     "name": "stdout",
     "text": [
      "Status: 1\n",
      "East_to_A = 5.0\n",
      "East_to_B = 70.0\n",
      "West_to_A = 45.0\n",
      "West_to_B = 0.0\n",
      "OPT = 62.5\n"
     ]
    }
   ],
   "metadata": {}
  },
  {
   "cell_type": "markdown",
   "source": [
    "## Problem 5\r\n",
    "\r\n",
    "A cargo plane has three compartments for storing cargo: front, centre and rear These compartments have the following limits on both weight and space:\r\n",
    "\r\n",
    "| Compartment | Weight Capacity (Tonnes) | Space Capacity ($m^3$) |\r\n",
    "| --- | --- | --- |\r\n",
    "| Front | 10 | 6800 |\r\n",
    "| Centre | 16 | 8700 |\r\n",
    "| Rear | 8 | 5300 |\r\n",
    "\r\n",
    "Furthermore, the weight of the cargo in the respective compartments must be the same proportion of that compartment's weight capacity to maintain the balance of the plane. The following four cargoes are available for shipment on the next flight:\r\n",
    "\r\n",
    "| Cargo | Weight (Tonnes) | Volumne ($m^3$) | Profit ($/tonne) |\r\n",
    "| --- | --- | --- | --- |\r\n",
    "| C1 | 18 | 480 | 310 |\r\n",
    "| C2 | 15 | 650 | 380 |\r\n",
    "| C3 | 23 | 580 | 350 |\r\n",
    "| C4 | 12 | 390 | 285 |\r\n"
   ],
   "metadata": {}
  },
  {
   "cell_type": "code",
   "execution_count": 7,
   "source": [
    "from pulp import *\r\n",
    "\r\n",
    "lp = LpProblem(\"Airplane\", LpMaximize)\r\n",
    "\r\n",
    "#Define variables\r\n",
    "a = LpVariable(name=\"C1_Front\", lowBound=0, cat=\"Integer\")\r\n",
    "b = LpVariable(name=\"C2_Front\", lowBound=0, cat=\"Integer\")\r\n",
    "c = LpVariable(name=\"C3_Front\", lowBound=0, cat=\"Integer\")\r\n",
    "d = LpVariable(name=\"C4_Front\", lowBound=0, cat=\"Integer\")\r\n",
    "e = LpVariable(name=\"C1_Centre\", lowBound=0, cat=\"Integer\")\r\n",
    "f = LpVariable(name=\"C2_Centre\", lowBound=0, cat=\"Integer\")\r\n",
    "g = LpVariable(name=\"C3_Centre\", lowBound=0, cat=\"Integer\")\r\n",
    "h = LpVariable(name=\"C4_Centre\", lowBound=0, cat=\"Integer\")\r\n",
    "i = LpVariable(name=\"C1_Rear\", lowBound=0, cat=\"Integer\")\r\n",
    "j = LpVariable(name=\"C2_Rear\", lowBound=0, cat=\"Integer\")\r\n",
    "k = LpVariable(name=\"C3_Rear\", lowBound=0, cat=\"Integer\")\r\n",
    "l = LpVariable(name=\"C4_Rear\", lowBound=0, cat=\"Integer\")\r\n",
    "\r\n",
    "\r\n",
    "#Add the objective function\r\n",
    "lp.objective = 310*a + 380*b + 350*c + 285*d +  310*e + 380*f + 350*g + 285*h +  310*i + 380*j + 350*k + 285*l\r\n",
    "\r\n",
    "# Add the constraints\r\n",
    "lp.addConstraint( a+b+c+d <= 10, 'front_weight_constraint')\r\n",
    "lp.addConstraint( e+f+g+h <= 16, 'centre_weight_constraint')\r\n",
    "lp.addConstraint( i+j+k+l <= 8, 'rear_weight_constraint')\r\n",
    "\r\n",
    "lp.addConstraint( a+d+i <= 18, 'cargo1_weight_constraint')\r\n",
    "lp.addConstraint( b+f+j <= 15, 'cargo2_weight_constraint')\r\n",
    "lp.addConstraint( c+g+k <= 23, 'cargo3_weight_constraint')\r\n",
    "lp.addConstraint( d+h+l <= 12, 'cargo4_weight_constraint')\r\n",
    "\r\n",
    "lp.addConstraint( 480*a+650*b+580*c+390*d <= 6800, 'front_space_constraint')\r\n",
    "lp.addConstraint( 480*e+650*f+580*g+390*h <= 8700, 'centre_space_constraint')\r\n",
    "lp.addConstraint( 480*i+650*j+580*k+390*l <= 5300, 'rear_space_constraint')\r\n",
    "\r\n",
    "lp.addConstraint(a+b+c+d-5/8*e-5/8*f-5/8*g-5/8*h == 0, 'front_centre_balance_constraint')\r\n",
    "lp.addConstraint(a+b+c+d-5/4*i-5/4*j-5/4*k-5/4*l==0, 'front_rear_balance_constraint')\r\n",
    "\r\n",
    "\r\n",
    "\r\n",
    "# Solve the LP\r\n",
    "status = lp.solve(PULP_CBC_CMD(msg=0))\r\n",
    "print(\"Status:\", status)\r\n",
    "#1:optimal, 2:not solved, 3:infeasible, 4:unbounded, 5:undef\r\n",
    "\r\n",
    "#Print solution\r\n",
    "for var in lp.variables():\r\n",
    "    print(var, \"=\", value(var))\r\n",
    "print(\"OPT =\", value(lp.objective))\r\n",
    "\r\n",
    "\r\n"
   ],
   "outputs": [
    {
     "output_type": "stream",
     "name": "stdout",
     "text": [
      "Status: 1\n",
      "C1_Centre = 2.0\n",
      "C1_Front = 0.0\n",
      "C1_Rear = 0.0\n",
      "C2_Centre = 0.0\n",
      "C2_Front = 10.0\n",
      "C2_Rear = 5.0\n",
      "C3_Centre = 12.0\n",
      "C3_Front = 0.0\n",
      "C3_Rear = 3.0\n",
      "C4_Centre = 2.0\n",
      "C4_Front = 0.0\n",
      "C4_Rear = 0.0\n",
      "OPT = 12140.0\n"
     ]
    }
   ],
   "metadata": {}
  },
  {
   "cell_type": "markdown",
   "source": [
    "Note on Balance Distribution\r\n",
    "\r\n",
    "Figuring out the constriants based on a ratio, using the plane cargo example\r\n",
    "10 \t: \t16 \t: \t8\r\n",
    "\r\n",
    "Least Common Multiple = 2\r\n",
    "\r\n",
    "5\t:\t8\t:\t4\r\n",
    "\r\n",
    "5 shares in front equals 8 shares in centre\tequals 4 shares in rear\r\n",
    "\r\n",
    "if centre has 16 tonnes,\r\n",
    "\r\n",
    "16/8 = 2\r\n",
    "\r\n",
    "5 * 2 = 10\t:\t8 * 2 = 16\t: \t4 * 2 = 8\r\n",
    "\r\n",
    "what is the multiplier for the number of shares in the centre?\r\n",
    "2x\r\n",
    "\r\n",
    "how many tonnes should there be in front\r\n",
    "front shares times multiplier\r\n",
    "5 shares times 2 = 10 tonnes\r\n",
    "\r\n",
    "front = 5/8 centre\r\n",
    "front = 5/4 rear\r\n",
    "\r\n",
    "centre = 8/5 front\r\n",
    "centre = 8/4 rear\r\n",
    "\r\n",
    "rear = 4/5 front\r\n",
    "rear = 4/8 centre"
   ],
   "metadata": {}
  }
 ],
 "metadata": {
  "orig_nbformat": 4,
  "language_info": {
   "name": "python",
   "version": "3.9.4",
   "mimetype": "text/x-python",
   "codemirror_mode": {
    "name": "ipython",
    "version": 3
   },
   "pygments_lexer": "ipython3",
   "nbconvert_exporter": "python",
   "file_extension": ".py"
  },
  "kernelspec": {
   "name": "python3",
   "display_name": "Python 3.9.4 64-bit"
  },
  "interpreter": {
   "hash": "0dbb22110c720ba9b2c4bbe183f8b8c42513f8a251fd07769059b4a9c1d7c85d"
  }
 },
 "nbformat": 4,
 "nbformat_minor": 2
}