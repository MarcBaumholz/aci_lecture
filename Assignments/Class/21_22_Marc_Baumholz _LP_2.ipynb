{
 "cells": [
  {
   "cell_type": "markdown",
   "source": [
    "# Linear Programming cargo distribution\n",
    "\n",
    "#a to l variables for cargo 1,2,3,4 and Front center rare => 12 at all\n",
    "\n",
    "#objective function 120*(a +e +i)+ 130*(b +f+ j) + 125*(c +g+ k) + 140*( d+ h+ l)\n",
    "#=> p maximised\n",
    "\n",
    "#constraints\n",
    "   # for Front center rear\n",
    "    #A +b +c +d <= 450\n",
    "    #E +f +g +h <= 600\n",
    "    #I +j+ k+ l <= 550\n",
    "   # for c1,2,3,4\n",
    "    #A +e +i <= 1000\n",
    "    #B +f +j <= 500\n",
    "    #C +g +k <= 600\n",
    "    #D + h + l <= 400\n",
    "#bounds > 0\n"
   ],
   "metadata": {
    "collapsed": false
   }
  },
  {
   "cell_type": "code",
   "execution_count": 1,
   "outputs": [
    {
     "name": "stdout",
     "output_type": "stream",
     "text": [
      "wagons:\n",
      "MAXIMIZE\n",
      "None\n",
      "VARIABLES\n",
      " \n",
      " C1_and_F \n",
      " C2_and_F\n",
      "wagons:\n",
      "MAXIMIZE\n",
      "120*C1_and_C + 120*C1_and_F + 120*C1_and_R + 130*C2_and_C + 130*C2_and_F + 130*C2_and_R + 125*C3_and_C + 125*C3_and_F + 125*C3_and_R + 140*C4_and_C + 140*C4_and_F + 140*C4_and_R + 0\n",
      "VARIABLES\n",
      "0 <= C1_and_C Integer\n",
      "0 <= C1_and_F Integer\n",
      "0 <= C1_and_R Integer\n",
      "0 <= C2_and_C Integer\n",
      "0 <= C2_and_F Integer\n",
      "0 <= C2_and_R Integer\n",
      "0 <= C3_and_C Integer\n",
      "0 <= C3_and_F Integer\n",
      "0 <= C3_and_R Integer\n",
      "0 <= C4_and_C Integer\n",
      "0 <= C4_and_F Integer\n",
      "0 <= C4_and_R Integer\n",
      "\n",
      "constraints \n",
      "\n",
      "OrderedDict([('F_constraint', 1*C1_and_F + 1*C2_and_F + 1*C3_and_F + 1*C4_and_F + -450 <= 0), ('C_constraint', 1*C1_and_C + 1*C2_and_C + 1*C3_and_C + 1*C4_and_C + -600 <= 0), ('R_constraint', 1*C1_and_R + 1*C2_and_R + 1*C3_and_R + 1*C4_and_R + -550 <= 0), ('cargo1_constraint', 1*C1_and_C + 1*C1_and_F + 1*C1_and_R + -1000 <= 0), ('cargo2_constraint', 1*C2_and_C + 1*C2_and_F + 1*C2_and_R + -500 <= 0), ('cargo3_constraint', 1*C3_and_C + 1*C3_and_F + 1*C3_and_R + -600 <= 0), ('cargo4_constraint', 1*C4_and_C + 1*C4_and_F + 1*C4_and_R + -400 <= 0)])\n"
     ]
    }
   ],
   "source": [
    "\n",
    "from pulp import *\n",
    "\n",
    "from pulp import *\n",
    "\n",
    "lp = LpProblem(\"cargos\", LpMaximize)\n",
    "\n",
    "#define variables\n",
    "a = LpVariable(name=\"C1 and F\", lowBound=0, cat=\"Integer\")\n",
    "b = LpVariable(name=\"C2 and F\", lowBound=0, cat=\"Integer\")\n",
    "c = LpVariable(name=\"C3 and F\", lowBound=0, cat=\"Integer\")\n",
    "d = LpVariable(name=\"C4 and F\", lowBound=0, cat=\"Integer\")\n",
    "e = LpVariable(name=\"C1 and C\", lowBound=0, cat=\"Integer\")\n",
    "f = LpVariable(name=\"C2 and C\", lowBound=0, cat=\"Integer\")\n",
    "g = LpVariable(name=\"C3 and C\", lowBound=0, cat=\"Integer\")\n",
    "h = LpVariable(name=\"C4 and C\", lowBound=0, cat=\"Integer\")\n",
    "i = LpVariable(name=\"C1 and R\", lowBound=0, cat=\"Integer\")\n",
    "j = LpVariable(name=\"C2 and R\", lowBound=0, cat=\"Integer\")\n",
    "k = LpVariable(name=\"C3 and R\", lowBound=0, cat=\"Integer\")\n",
    "l = LpVariable(name=\"C4 and R\", lowBound=0, cat=\"Integer\")\n",
    "\n",
    "print(lp, \"\\n\", a, \"\\n\", b)\n",
    "\n",
    "lp.objective = 120*(a+e+i) + 130*(b+f+j) + 125*(c+g+k) + 140*(d+h+l)\n",
    "print(lp)\n",
    "\n",
    "lp.addConstraint(a + b + c + d <= 450, \"F_constraint\")\n",
    "lp.addConstraint(e + f + g + h <= 600, \"C_constraint\")\n",
    "lp.addConstraint(i + j + k + l <= 550, \"R_constraint\")\n",
    "lp.addConstraint(a + e + i <= 1000, \"cargo1_constraint\")\n",
    "lp.addConstraint(b + f + j <= 500, \"cargo2_constraint\")\n",
    "lp.addConstraint(c + g + k <= 600, \"cargo3_constraint\")\n",
    "lp.addConstraint(d + h + l <= 400, \"cargo4_constraint\")\n",
    "print(\"constraints \\n\")\n",
    "print(lp.constraints)"
   ],
   "metadata": {
    "collapsed": false,
    "pycharm": {
     "name": "#%%\n"
    }
   }
  },
  {
   "cell_type": "code",
   "execution_count": 2,
   "outputs": [
    {
     "name": "stdout",
     "output_type": "stream",
     "text": [
      "Status: 1\n",
      "C1_and_C = 100.0\n",
      "C1_and_F = 0.0\n",
      "C1_and_R = 0.0\n",
      "C2_and_C = 0.0\n",
      "C2_and_F = 0.0\n",
      "C2_and_R = 500.0\n",
      "C3_and_C = 500.0\n",
      "C3_and_F = 100.0\n",
      "C3_and_R = 0.0\n",
      "C4_and_C = 0.0\n",
      "C4_and_F = 350.0\n",
      "C4_and_R = 50.0\n",
      "OPT =  208000.0\n"
     ]
    }
   ],
   "source": [
    "status = lp.solve(PULP_CBC_CMD(msg=1))\n",
    "print(\"Status:\", status)\n",
    "#1:optimal, 2#notsolved, 3:infeasible, 4:unbounded, 5:undef\n",
    "\n",
    "#print solution #durch alle variablen b,w => wert ausgeben\n",
    "for var in lp.variables():\n",
    "    print(var, \"=\", value(var))\n",
    "print(\"OPT = \", value(lp.objective))"
   ],
   "metadata": {
    "collapsed": false,
    "pycharm": {
     "name": "#%% sikve the LP\n"
    }
   }
  },
  {
   "cell_type": "code",
   "execution_count": null,
   "outputs": [],
   "source": [],
   "metadata": {
    "collapsed": false,
    "pycharm": {
     "name": "#%%\n"
    }
   }
  }
 ],
 "metadata": {
  "orig_nbformat": 4,
  "language_info": {
   "name": "python",
   "version": "3.9.4",
   "mimetype": "text/x-python",
   "codemirror_mode": {
    "name": "ipython",
    "version": 3
   },
   "pygments_lexer": "ipython3",
   "nbconvert_exporter": "python",
   "file_extension": ".py"
  },
  "kernelspec": {
   "name": "aci2021-venv",
   "language": "python",
   "display_name": "aci2021-venv"
  },
  "interpreter": {
   "hash": "0dbb22110c720ba9b2c4bbe183f8b8c42513f8a251fd07769059b4a9c1d7c85d"
  }
 },
 "nbformat": 4,
 "nbformat_minor": 2
}